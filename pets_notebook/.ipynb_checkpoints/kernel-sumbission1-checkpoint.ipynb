{
 "cells": [
  {
   "cell_type": "markdown",
   "metadata": {},
   "source": [
    "# Import"
   ]
  },
  {
   "cell_type": "code",
   "execution_count": 9,
   "metadata": {
    "_cell_guid": "b1076dfc-b9ad-4769-8c92-a6c4dae69d19",
    "_kg_hide-input": false,
    "_kg_hide-output": false,
    "_uuid": "8f2839f25d086af736a60e9eeb907d3b93b6e0e5"
   },
   "outputs": [
    {
     "name": "stdout",
     "output_type": "stream",
     "text": [
      "['test_images', 'breed_labels.csv', '.DS_Store', 'test', 'train_metadata', 'color_labels.csv', 'test_sentiment', 'test_metadata', 'train_sentiment', 'train', 'train_images', 'state_labels.csv']\n"
     ]
    }
   ],
   "source": [
    "# This Python 3 environment comes with many helpful analytics libraries installed\n",
    "# It is defined by the kaggle/python docker image: https://github.com/kaggle/docker-python\n",
    "# For example, here's several helpful packages to load in \n",
    "\n",
    "import numpy as np # linear algebra\n",
    "import pandas as pd # data processing, CSV file I/O (e.g. pd.read_csv)\n",
    "\n",
    "# Input data files are available in the \"../input/\" directory.\n",
    "# For example, running this (by clicking run or pressing Shift+Enter) will list the files in the input directory\n",
    "\n",
    "import os\n",
    "print(os.listdir(\"../input\"))\n",
    "\n",
    "# Any results you write to the current directory are saved as output.\n",
    "\n",
    "import numpy as np\n",
    "import pandas as pd\n",
    "import matplotlib.pyplot as plt\n",
    "%matplotlib inline\n",
    "import seaborn as sns\n",
    "import statsmodels.formula.api as sm \n",
    "pd.set_option('display.max_colwidth', -1)\n",
    "plt.style.use('ggplot')\n",
    "plt.rcParams['figure.figsize'] = [10, 5]\n",
    "from xgboost.sklearn import XGBClassifier \n",
    "import xgboost as xgb"
   ]
  },
  {
   "cell_type": "markdown",
   "metadata": {},
   "source": [
    "## Cassic data"
   ]
  },
  {
   "cell_type": "code",
   "execution_count": 2,
   "metadata": {},
   "outputs": [],
   "source": [
    "train = pd.read_csv('../input/train/train.csv')\n",
    "train.shape\n",
    "\n",
    "\n",
    "train_y = train['AdoptionSpeed']\n",
    "train.drop(columns = 'AdoptionSpeed', inplace=True)\n",
    "\n",
    "train_y.shape\n",
    "\n",
    "train.shape\n",
    "\n",
    "test = pd.read_csv('../input/test/test.csv')\n",
    "test.shape\n",
    "\n",
    "df = pd.concat([train, test], ignore_index=True, sort=False)\n",
    "\n",
    "df.shape\n",
    "\n",
    "df.Description = df.Description.astype('str')\n",
    "\n",
    "df['DescLen'] = df.Description.astype(str).fillna('').apply(len)\n",
    "\n",
    "df['NameLen'] = np.log1p(df['Name'].astype(str).fillna('').apply(len))"
   ]
  },
  {
   "cell_type": "code",
   "execution_count": 3,
   "metadata": {},
   "outputs": [],
   "source": [
    "def modelfit(alg, dtrain, sel_cols,target, useTrainCV=True, cv_folds=5, early_stopping_rounds=50):\n",
    "    \n",
    "    if useTrainCV:\n",
    "        xgb_param = alg.get_xgb_params()\n",
    "        xgtrain = xgb.DMatrix(dtrain[sel_cols].values, label=target.values)\n",
    "        cvresult = xgb.cv(xgb_param, xgtrain, num_boost_round=alg.get_params()['n_estimators'], nfold=cv_folds, early_stopping_rounds=early_stopping_rounds, verbose_eval=False)\n",
    "        alg.set_params(n_estimators=cvresult.shape[0])\n",
    "    \n",
    "    #Fit the algorithm on the data\n",
    "    alg.fit(dtrain[sel_cols], target.values)\n",
    "        \n",
    "    #Predict training set:\n",
    "    dtrain_predictions = alg.predict(dtrain[sel_cols])\n",
    "    dtrain_predprob = alg.predict_proba(dtrain[sel_cols])[:,1]\n",
    "        \n",
    "    #Print model report:\n",
    "    print(\"\\nModel Report\")\n",
    "    print(\"Quadratic gamma : %.4g\" % quadratic_weighted_kappa(target.values, dtrain_predictions)   )           \n",
    "    feat_imp = pd.Series(model.get_booster().get_fscore()).sort_values(ascending=False)\n",
    "    feat_imp.plot(kind='bar', title='Feature Importances')\n",
    "    plt.ylabel('Feature Importance Score')\n",
    "    return(alg)"
   ]
  },
  {
   "cell_type": "code",
   "execution_count": 4,
   "metadata": {},
   "outputs": [],
   "source": [
    "one_hot_cols=['Gender', 'MaturitySize', 'FurLength', 'Vaccinated', 'Dewormed',\n",
    "       'Sterilized','Health']\n",
    "\n",
    "df = pd.get_dummies(df, columns=one_hot_cols, drop_first=True)\n",
    "\n",
    "\n",
    "\n",
    "cols_log = ['Age', 'Quantity', 'Fee', 'PhotoAmt', 'VideoAmt', 'DescLen', 'NameLen']\n",
    "\n",
    "df[cols_log] = df[cols_log].apply(np.log1p)"
   ]
  },
  {
   "cell_type": "code",
   "execution_count": 5,
   "metadata": {},
   "outputs": [],
   "source": [
    "df['Breed1Col1'] = df['Breed1'] * df['Color1']\n",
    "df['Breed1Col2'] = df['Breed1'] * df['Color2']\n",
    "df['Breed2Col1'] = df['Breed2'] * df['Color1']\n",
    "df['Breed2Col2'] = df['Breed2'] * df['Color2']"
   ]
  },
  {
   "cell_type": "code",
   "execution_count": 18,
   "metadata": {},
   "outputs": [
    {
     "name": "stderr",
     "output_type": "stream",
     "text": [
      "Exception ignored in: <function DMatrix.__del__ at 0x1213c21e0>\n",
      "Traceback (most recent call last):\n",
      "  File \"/usr/local/lib/python3.7/site-packages/xgboost/core.py\", line 368, in __del__\n",
      "    if self.handle is not None:\n",
      "AttributeError: 'DMatrix' object has no attribute 'handle'\n",
      "/usr/local/lib/python3.7/site-packages/pandas/core/generic.py:4405: SettingWithCopyWarning: \n",
      "A value is trying to be set on a copy of a slice from a DataFrame.\n",
      "Try using .loc[row_indexer,col_indexer] = value instead\n",
      "\n",
      "See the caveats in the documentation: http://pandas.pydata.org/pandas-docs/stable/indexing.html#indexing-view-versus-copy\n",
      "  self[name] = value\n",
      "/usr/local/Cellar/ipython/7.1.1/libexec/vendor/lib/python3.7/site-packages/ipykernel_launcher.py:26: FutureWarning: Method .as_matrix will be removed in a future version. Use .values instead.\n"
     ]
    },
    {
     "data": {
      "text/plain": [
       "XGBClassifier(base_score=0.5, booster='gbtree', colsample_bylevel=1,\n",
       "       colsample_bytree=1, gamma=0, learning_rate=0.015, max_delta_step=0,\n",
       "       max_depth=8, min_child_weight=1, missing=None, n_estimators=500,\n",
       "       n_jobs=4, nthread=-1, objective='multi:softprob', random_state=0,\n",
       "       reg_alpha=0, reg_lambda=1, scale_pos_weight=1, seed=None,\n",
       "       silent=True, subsample=1)"
      ]
     },
     "execution_count": 18,
     "metadata": {},
     "output_type": "execute_result"
    }
   ],
   "source": [
    "sel_cols = [\n",
    "    'Type', 'Age', 'Breed1', 'Breed2', 'Color1', 'Color2', 'Color3',\n",
    "    'Quantity', 'Fee', 'State', 'DescLen', 'NameLen', 'Gender_2', 'Gender_3',\n",
    "    'MaturitySize_2', 'MaturitySize_3', 'MaturitySize_4', 'FurLength_2',\n",
    "    'FurLength_3', 'Vaccinated_2', 'Vaccinated_3', 'Dewormed_2', 'Dewormed_3',\n",
    "    'Sterilized_2', 'Sterilized_3', 'Health_2', 'Health_3', 'VideoAmt',\n",
    "    'PhotoAmt', 'Breed1Col1',  'Breed1Col2', 'Breed2Col2', 'Breed2Col1'\n",
    "]\n",
    "\n",
    "df_ml = df[sel_cols]\n",
    "df_ml.State = df_ml.State.astype(int)\n",
    "\n",
    "df_ml.State = df_ml.State.astype(int)\n",
    "\n",
    "train_ml = df_ml.iloc[0:14993,]\n",
    "test_ml = df_ml.iloc[14993:,]\n",
    "\n",
    "#xgb1 = xgb.XGBClassifier(n_estimators=500, nthread=-1, max_depth=8, learning_rate=0.015, num_class =5, objective='multi:softprob')\n",
    "\n",
    "model = XGBClassifier(base_score=0.5, booster='gbtree', colsample_bylevel=1,\n",
    "       colsample_bytree=1, gamma=0, learning_rate=0.015, max_delta_step=0,\n",
    "       max_depth=8, min_child_weight=1, missing=None, n_estimators=500,\n",
    "       n_jobs=4, nthread=-1, objective='multi:softprob', random_state=0,\n",
    "       reg_alpha=0, reg_lambda=1, scale_pos_weight=1, seed=None,\n",
    "       silent=True, subsample=1)\n",
    "model.fit(train_ml.as_matrix(),train_y.values)"
   ]
  },
  {
   "cell_type": "code",
   "execution_count": 19,
   "metadata": {},
   "outputs": [
    {
     "name": "stderr",
     "output_type": "stream",
     "text": [
      "/usr/local/Cellar/ipython/7.1.1/libexec/vendor/lib/python3.7/site-packages/ipykernel_launcher.py:2: FutureWarning: Method .as_matrix will be removed in a future version. Use .values instead.\n",
      "  \n"
     ]
    }
   ],
   "source": [
    "\n",
    "pred = model.predict(test_ml.as_matrix())"
   ]
  },
  {
   "cell_type": "code",
   "execution_count": null,
   "metadata": {},
   "outputs": [],
   "source": [
    "#pd.Series(pred).plot.hist()"
   ]
  },
  {
   "cell_type": "markdown",
   "metadata": {},
   "source": [
    "# Submission"
   ]
  },
  {
   "cell_type": "code",
   "execution_count": null,
   "metadata": {},
   "outputs": [],
   "source": [
    "sample = pd.read_csv('../input/test/sample_submission.csv')\n",
    "sample.AdoptionSpeed = pred\n",
    "sample.to_csv('submission.csv', index=False)\n"
   ]
  },
  {
   "cell_type": "code",
   "execution_count": null,
   "metadata": {},
   "outputs": [],
   "source": []
  }
 ],
 "metadata": {
  "kernelspec": {
   "display_name": "Python 3",
   "language": "python",
   "name": "python3"
  },
  "language_info": {
   "codemirror_mode": {
    "name": "ipython",
    "version": 3
   },
   "file_extension": ".py",
   "mimetype": "text/x-python",
   "name": "python",
   "nbconvert_exporter": "python",
   "pygments_lexer": "ipython3",
   "version": "3.7.0"
  },
  "toc": {
   "base_numbering": 1,
   "nav_menu": {},
   "number_sections": true,
   "sideBar": true,
   "skip_h1_title": false,
   "title_cell": "Table of Contents",
   "title_sidebar": "Contents",
   "toc_cell": false,
   "toc_position": {
    "height": "calc(100% - 180px)",
    "left": "10px",
    "top": "150px",
    "width": "165px"
   },
   "toc_section_display": true,
   "toc_window_display": true
  }
 },
 "nbformat": 4,
 "nbformat_minor": 1
}
